{
 "cells": [
  {
   "cell_type": "code",
   "execution_count": 1,
   "metadata": {},
   "outputs": [],
   "source": [
    "import pandas as pd\n",
    "from dask import dataframe as dd\n",
    "from sklearn.metrics.pairwise import cosine_similarity"
   ]
  },
  {
   "cell_type": "code",
   "execution_count": 2,
   "metadata": {},
   "outputs": [],
   "source": [
    "df = pd.read_parquet('../data/processed/ProcessChexpertDf/part.0.parquet')"
   ]
  },
  {
   "cell_type": "code",
   "execution_count": 3,
   "metadata": {},
   "outputs": [
    {
     "data": {
      "text/plain": [
       "37959"
      ]
     },
     "execution_count": 3,
     "metadata": {},
     "output_type": "execute_result"
    }
   ],
   "source": [
    "df[df['Lung Lesion']==1].isna().sum(axis=1).idxmin()"
   ]
  },
  {
   "cell_type": "code",
   "execution_count": 4,
   "metadata": {},
   "outputs": [],
   "source": [
    "assert df[df['Lung Lesion']==1].isna().sum(axis=1).idxmin() == 37959"
   ]
  },
  {
   "cell_type": "code",
   "execution_count": 5,
   "metadata": {},
   "outputs": [
    {
     "data": {
      "text/plain": [
       "Path                          CheXpert-v1.0-small/train/patient09313/study1/...\n",
       "Sex                                                                        Male\n",
       "Age                                                                          60\n",
       "Frontal/Lateral                                                         Frontal\n",
       "AP/PA                                                                        AP\n",
       "No Finding                                                                  NaN\n",
       "Enlarged Cardiomediastinum                                                    0\n",
       "Cardiomegaly                                                                NaN\n",
       "Lung Opacity                                                                  1\n",
       "Lung Lesion                                                                   1\n",
       "Edema                                                                         1\n",
       "Consolidation                                                                 1\n",
       "Pneumonia                                                                    -1\n",
       "Atelectasis                                                                  -1\n",
       "Pneumothorax                                                                  0\n",
       "Pleural Effusion                                                              1\n",
       "Pleural Other                                                               NaN\n",
       "Fracture                                                                    NaN\n",
       "Support Devices                                                               1\n",
       "Name: 37959, dtype: object"
      ]
     },
     "execution_count": 5,
     "metadata": {},
     "output_type": "execute_result"
    }
   ],
   "source": [
    "df.loc[37959]"
   ]
  },
  {
   "cell_type": "code",
   "execution_count": null,
   "metadata": {},
   "outputs": [],
   "source": []
  },
  {
   "cell_type": "code",
   "execution_count": 11,
   "metadata": {},
   "outputs": [],
   "source": [
    "n_nanvalues = df.loc[37959].isna().sum()"
   ]
  },
  {
   "cell_type": "code",
   "execution_count": null,
   "metadata": {},
   "outputs": [],
   "source": [
    "df."
   ]
  },
  {
   "cell_type": "code",
   "execution_count": null,
   "metadata": {},
   "outputs": [],
   "source": []
  }
 ],
 "metadata": {
  "kernelspec": {
   "display_name": "my-virtualenv-name",
   "language": "python",
   "name": "my-virtualenv-name"
  },
  "language_info": {
   "codemirror_mode": {
    "name": "ipython",
    "version": 3
   },
   "file_extension": ".py",
   "mimetype": "text/x-python",
   "name": "python",
   "nbconvert_exporter": "python",
   "pygments_lexer": "ipython3",
   "version": "3.7.1"
  }
 },
 "nbformat": 4,
 "nbformat_minor": 2
}
