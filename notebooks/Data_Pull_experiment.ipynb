{
 "cells": [
  {
   "cell_type": "code",
   "execution_count": 1,
   "metadata": {},
   "outputs": [],
   "source": [
    "import logging\n",
    "from luigi import Task\n",
    "from luigi.parameter import BoolParameter\n",
    "from luigi.task import ExternalTask\n",
    "import luigi\n",
    "from csci_utils.luigi.dask.target import CSVTarget\n",
    "from csci_utils.luigi.dask.target import ParquetTarget\n",
    "from csci_utils.luigi.task import Requirement\n",
    "from csci_utils.luigi.task import Requires\n",
    "from csci_utils.luigi.task import TargetOutput\n",
    "from luigi.contrib.s3 import S3Target"
   ]
  },
  {
   "cell_type": "code",
   "execution_count": 7,
   "metadata": {},
   "outputs": [],
   "source": [
    "import os"
   ]
  },
  {
   "cell_type": "code",
   "execution_count": 2,
   "metadata": {},
   "outputs": [],
   "source": [
    "import pandas as pd"
   ]
  },
  {
   "cell_type": "code",
   "execution_count": 3,
   "metadata": {},
   "outputs": [],
   "source": [
    "import dask.dataframe as dd"
   ]
  },
  {
   "cell_type": "code",
   "execution_count": 4,
   "metadata": {},
   "outputs": [],
   "source": [
    "class ChexpertDataframe(ExternalTask):\n",
    "\n",
    "    s3_path = 's3://radio-star-csci-e-29/unzipped/'\n",
    "\n",
    "    output = TargetOutput(\n",
    "        file_pattern=\"\",\n",
    "        ext=\"train.csv\",\n",
    "        target_class=S3Target,\n",
    "        path=s3_path\n",
    "    )"
   ]
  },
  {
   "cell_type": "code",
   "execution_count": 44,
   "metadata": {},
   "outputs": [
    {
     "data": {
      "text/plain": [
       "'..\\\\data\\\\processed'"
      ]
     },
     "execution_count": 44,
     "metadata": {},
     "output_type": "execute_result"
    }
   ],
   "source": [
    "os.path.relpath(('C:\\\\Users\\\\wmj\\\\PycharmProjects\\\\radio-star\\\\models\\\\Tasks\\\\', 'C:\\\\Users\\\\wmj\\\\PycharmProjects\\\\radio-star\\\\data\\\\processed\\\\')[-1])"
   ]
  },
  {
   "cell_type": "code",
   "execution_count": 8,
   "metadata": {},
   "outputs": [],
   "source": [
    "class ProcessChexpertDf(Task):\n",
    "    requires = Requires()\n",
    "    chexpertdf = Requirement(ChexpertDataframe)\n",
    "    \n",
    "    output = TargetOutput(\n",
    "        target_class=ParquetTarget,\n",
    "        path = \"../data/processed/\",\n",
    "        ext=\"\",\n",
    "        flag=False,\n",
    "        storage_options=dict(requester_pays=True),\n",
    "    )\n",
    "    \n",
    "    def run(self):\n",
    "        pathCSV = self.input()[\"chexpertdf\"].path\n",
    "        ddf = dd.read_csv(pathCSV)\n",
    "        self.output().write_dask(ddf, compression = \"gzip\")"
   ]
  },
  {
   "cell_type": "code",
   "execution_count": 9,
   "metadata": {},
   "outputs": [],
   "source": [
    "class SelectRandomStudy(Task):\n",
    "    requires = Requires()\n",
    "    process_chexpert_df = Requirement(ProcessChexpertDf)\n",
    "    \n",
    "    output = TargetOutput(\n",
    "        target_class=luigi.local_target.atomic_file,\n",
    "        path = \"../data/interim/\",\n",
    ")\n",
    "    \n",
    "    def run(self):\n",
    "        pathCSV = self.input()[\"chexpertdf\"].read_parquet()\n",
    "        ddf = dd.read_csv(pathCSV)\n",
    "        self.output().write_dask(ddf, compression = \"gzip\")"
   ]
  },
  {
   "cell_type": "code",
   "execution_count": 42,
   "metadata": {},
   "outputs": [],
   "source": [
    "df = pd.read_parquet('../data/processed/ProcessChexpertDf/part.0.parquet')\n",
    "\n",
    "df[df['Lung Lesion']==1].isna().sum(axis=1).idxmin()\n",
    "\n",
    "df.loc[37959]"
   ]
  },
  {
   "cell_type": "code",
   "execution_count": 43,
   "metadata": {},
   "outputs": [],
   "source": [
    "index_of_interest = 37959"
   ]
  },
  {
   "cell_type": "code",
   "execution_count": null,
   "metadata": {},
   "outputs": [],
   "source": []
  }
 ],
 "metadata": {
  "kernelspec": {
   "display_name": "my-virtualenv-name",
   "language": "python",
   "name": "my-virtualenv-name"
  },
  "language_info": {
   "codemirror_mode": {
    "name": "ipython",
    "version": 3
   },
   "file_extension": ".py",
   "mimetype": "text/x-python",
   "name": "python",
   "nbconvert_exporter": "python",
   "pygments_lexer": "ipython3",
   "version": "3.7.1"
  }
 },
 "nbformat": 4,
 "nbformat_minor": 2
}
